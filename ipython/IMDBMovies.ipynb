{
 "cells": [
  {
   "cell_type": "code",
   "execution_count": 163,
   "metadata": {
    "collapsed": false
   },
   "outputs": [
    {
     "name": "stdout",
     "output_type": "stream",
     "text": [
      "(5043, 28)\n"
     ]
    }
   ],
   "source": [
    "import numpy as np\n",
    "import pandas as pd\n",
    "\n",
    "from sklearn import linear_model\n",
    "from sklearn import preprocessing\n",
    "from sklearn import feature_extraction\n",
    "from sklearn import metrics\n",
    "from sklearn import pipeline\n",
    "from sklearn import svm\n",
    "\n",
    "df = pd.read_csv(\"movie_metadata.csv\")\n",
    "print(df.shape)\n"
   ]
  },
  {
   "cell_type": "code",
   "execution_count": 149,
   "metadata": {
    "collapsed": false
   },
   "outputs": [
    {
     "name": "stdout",
     "output_type": "stream",
     "text": [
      "Features corresponding to IMDB score (ordered from most important to least):\n",
      "\n",
      "('imdb_score', 1.0)\n",
      "('num_voted_users', 0.41096520027034994)\n",
      "('num_user_for_reviews', 0.29247543745185667)\n",
      "('duration', 0.26166152097667805)\n",
      "('movie_facebook_likes', 0.24704851902724911)\n",
      "('title_year', -0.20916700456475851)\n",
      "('gross', 0.19802122755403362)\n",
      "('director_facebook_likes', 0.17080222836186262)\n",
      "('cast_total_facebook_likes', 0.085787347548007695)\n",
      "('actor_2_facebook_likes', 0.083808112171109797)\n",
      "('actor_1_facebook_likes', 0.076098817087680751)\n",
      "('facenumber_in_poster', -0.062957524485050834)\n",
      "('aspect_ratio', 0.059445227874183416)\n",
      "('actor_3_facebook_likes', 0.052632729576778253)\n",
      "('budget', 0.030687727112958172)\n"
     ]
    }
   ],
   "source": [
    "# Some preliminary analysis to see which features (only numerical features considered) correspond most strongly to imdb_score.\n",
    "# Num_voted_users, num_user_for_reviews, duration, and movie_facebook_likes appear to be most important.\n",
    "corr = df.select_dtypes(include = ['float64', 'int64']).iloc[:, 1:].corr()\n",
    "corr = corr['imdb_score'].to_dict()\n",
    "print(\"Features corresponding to IMDB score (ordered from most important to least):\\n\")\n",
    "for feat in sorted(corr.items(), key = lambda x: -abs(float(x[1]))):\n",
    "    print(feat)\n",
    "\n"
   ]
  },
  {
   "cell_type": "code",
   "execution_count": 161,
   "metadata": {
    "collapsed": false
   },
   "outputs": [],
   "source": [
    "#Function currently in ModelDB\n",
    "#Splits dataframe according to the weights provided. If the optional y dataframe is provided, it will also be split accordingly.\n",
    "def randomSplit(X, weights, seed, y=None):\n",
    "    result = []\n",
    "    yresult = []\n",
    "    np.random.seed(seed)\n",
    "    df = X\n",
    "    s = float(sum(weights))\n",
    "    cweights = [0.0]\n",
    "    for w in weights:\n",
    "        cweights.append(cweights[-1] + w / s)\n",
    "    zipped = zip(cweights,cweights[1:])\n",
    "    for i in range(0,len(zipped)-1):\n",
    "        lower_bound, higher_bound = zipped[i]\n",
    "        #generating the correct mask for the dataframe, based on the weights array\n",
    "        msk = np.logical_and(np.random.rand(len(df)) <= higher_bound, np.random.rand(len(df)) >= lower_bound)\n",
    "        #when mask is applied to dataframe, it splits the frame randomly\n",
    "        result.append(df[msk])\n",
    "        df = df[~msk]\n",
    "        if y is not None:\n",
    "            yresult.append(y[msk])\n",
    "            y = y[~msk]\n",
    "        result.append(df)\n",
    "        yresult.append(y)\n",
    "    return result, yresult\n",
    "\n"
   ]
  },
  {
   "cell_type": "code",
   "execution_count": 164,
   "metadata": {
    "collapsed": false
   },
   "outputs": [
    {
     "name": "stdout",
     "output_type": "stream",
     "text": [
      "   imdb_score  duration  num_critic_for_reviews      gross  \\\n",
      "0         7.9       178                     723  760505847   \n",
      "1         7.1       169                     302  309404152   \n",
      "2         6.8       148                     602  200074175   \n",
      "3         8.5       164                     813  448130642   \n",
      "5         6.6       132                     462   73058679   \n",
      "\n",
      "   num_user_for_reviews  title_year  num_voted_users  movie_facebook_likes  \\\n",
      "0                  3054        2009           886204                 33000   \n",
      "1                  1238        2007           471220                     0   \n",
      "2                   994        2015           275868                 85000   \n",
      "3                  2701        2012          1144337                164000   \n",
      "5                   738        2012           212204                 24000   \n",
      "\n",
      "   director_facebook_likes  0_x ...   12  13  14  15  16  17  18  0_y  1_y  \\\n",
      "0                        0    0 ...    0   0   0   0   0   0   0    0    0   \n",
      "1                      563    0 ...    0   0   0   0   0   0   0    0    0   \n",
      "2                        0    0 ...    0   0   0   0   0   0   0    0    0   \n",
      "3                    22000    0 ...    0   0   0   0   0   0   0    0    0   \n",
      "5                      475    0 ...    0   0   0   0   0   0   0    0    0   \n",
      "\n",
      "   2_y  \n",
      "0    1  \n",
      "1    1  \n",
      "2    1  \n",
      "3    1  \n",
      "5    1  \n",
      "\n",
      "[5 rows x 31 columns]\n",
      "('RMSE', 0.88248783688344157)\n"
     ]
    }
   ],
   "source": [
    "## Current features included:\n",
    "## 'content_rating', 'color', 'movie_facebook_likes', 'duration', 'num_critic_for_reviews', \n",
    "## 'gross', 'num_user_for_reviews', 'title_year', 'num_voted_users', 'director_facebook_likes'\n",
    "\n",
    "columnsOfInterest = ['imdb_score','content_rating', 'color', 'duration', 'num_critic_for_reviews', 'gross', \n",
    "                     'num_user_for_reviews', 'title_year', 'num_voted_users', 'movie_facebook_likes', \n",
    "                     'director_facebook_likes']\n",
    "df = df[columnsOfInterest]\n",
    "columnsToEncode = list(df.select_dtypes(include=['category','object']))\n",
    "\n",
    "# We need to encode the categorial columns (content_rating and color).\n",
    "label_enc = preprocessing.LabelEncoder()\n",
    "hot_enc = preprocessing.OneHotEncoder(sparse=False)\n",
    "for feature in columnsToEncode:    \n",
    "    df[feature] = label_enc.fit_transform(df[feature])\n",
    "    hot_encoded = hot_enc.fit_transform(df[feature].reshape(-1, 1))\n",
    "    hot_encoded_df = pd.DataFrame(hot_encoded)\n",
    "    # Don't need the original column anymore\n",
    "    del df[feature]\n",
    "    # Merge the hot-encoded columns to the original df dataframe\n",
    "    df = df.merge(hot_encoded_df, left_index=True, right_index=True)\n",
    "\n",
    "#Drop any dataframe rows that have missing values.\n",
    "df = df.dropna(how='any')\n",
    "print(df.head(5))\n",
    "\n",
    "#We extract the labels for model. \n",
    "label = df['imdb_score']\n",
    "del df['imdb_score']\n",
    "\n",
    "# Model DB will store randomSplit event.\n",
    "data, labels = randomSplit(df, [0.7, 0.3], 1000, label)\n",
    "xtrain, ytrain = data\n",
    "xtest, ytest = labels\n",
    "\n",
    "model = linear_model.LinearRegression()\n",
    "\n",
    "## Will eventually use Model DB for fit / predict\n",
    "model.fit(xtrain, xtest)\n",
    "ypred = model.predict(ytrain)\n",
    "##Model DB for score metrics\n",
    "RMSE = metrics.mean_squared_error(ytest, ypred)**0.5\n",
    "predictions = pd.DataFrame([ytest, ypred])\n",
    "\n",
    "print(\"RMSE\", RMSE)"
   ]
  },
  {
   "cell_type": "code",
   "execution_count": null,
   "metadata": {
    "collapsed": true
   },
   "outputs": [],
   "source": []
  }
 ],
 "metadata": {
  "kernelspec": {
   "display_name": "Python 2",
   "language": "python",
   "name": "python2"
  },
  "language_info": {
   "codemirror_mode": {
    "name": "ipython",
    "version": 2
   },
   "file_extension": ".py",
   "mimetype": "text/x-python",
   "name": "python",
   "nbconvert_exporter": "python",
   "pygments_lexer": "ipython2",
   "version": "2.7.9"
  }
 },
 "nbformat": 4,
 "nbformat_minor": 1
}
